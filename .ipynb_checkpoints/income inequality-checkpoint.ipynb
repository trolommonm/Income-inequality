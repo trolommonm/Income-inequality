{
 "cells": [
  {
   "cell_type": "code",
   "execution_count": null,
   "metadata": {},
   "outputs": [],
   "source": [
    "import pandas as pd\n",
    "import matplotlib.pyplot as plt\n",
    "import seaborn as sb\n",
    "import random\n",
    "sb.set()"
   ]
  },
  {
   "cell_type": "code",
   "execution_count": null,
   "metadata": {},
   "outputs": [],
   "source": [
    "num_of_agents = 50\n",
    "wealth = 50\n",
    "\n",
    "wealth_list = [50 for i in range(0, num_of_agents)]\n",
    "\n",
    "df = {\n",
    "    'Agent': [i for i in range(1, num_of_agents + 1)],\n",
    "    'Wealth': wealth_list\n",
    "}\n",
    "\n",
    "agents = pd.DataFrame(df)"
   ]
  },
  {
   "cell_type": "code",
   "execution_count": null,
   "metadata": {},
   "outputs": [],
   "source": [
    "f, axes = plt.subplots(1, 1, figsize=(12, 8))\n",
    "sb.barplot(x='Agent', y='Wealth', data=agents, color='salmon')"
   ]
  },
  {
   "cell_type": "code",
   "execution_count": null,
   "metadata": {},
   "outputs": [],
   "source": [
    "x = {}\n",
    "for i in range(1, num_of_agents + 1):\n",
    "    x[i] = 50\n",
    "    \n",
    "x"
   ]
  },
  {
   "cell_type": "code",
   "execution_count": null,
   "metadata": {},
   "outputs": [],
   "source": [
    "def give_money(agents_dict):\n",
    "    for i in range(1, num_of_agents + 1):\n",
    "        # everyone passes a dollar to a random_agent, unless they have 0 dollars :(\n",
    "        if agents_dict[i] > 0:\n",
    "            random_agent = random.randrange(1, num_of_agents + 1)\n",
    "            agents_dict[i] -= 1\n",
    "            agents_dict[random_agent] += 1"
   ]
  },
  {
   "cell_type": "code",
   "execution_count": null,
   "metadata": {},
   "outputs": [],
   "source": [
    "for i in range(0, 3000):\n",
    "    give_money(x)"
   ]
  },
  {
   "cell_type": "code",
   "execution_count": null,
   "metadata": {},
   "outputs": [],
   "source": [
    "df = {\n",
    "    'Agents': list(x.keys()),\n",
    "    'Wealth': list(x.values())\n",
    "}\n",
    "\n",
    "df = pd.DataFrame(df)\n",
    "df.sort_values(by=['Wealth'], inplace=True)\n",
    "df = df.reset_index(drop=True)\n",
    "df"
   ]
  },
  {
   "cell_type": "code",
   "execution_count": null,
   "metadata": {},
   "outputs": [],
   "source": [
    "f, axes = plt.subplots(1, 1, figsize=(12, 8))\n",
    "sb.barplot(x='Agents', y='Wealth', data=df, order=df['Agents'])"
   ]
  },
  {
   "cell_type": "code",
   "execution_count": null,
   "metadata": {},
   "outputs": [],
   "source": []
  }
 ],
 "metadata": {
  "kernelspec": {
   "display_name": "Python 3",
   "language": "python",
   "name": "python3"
  },
  "language_info": {
   "codemirror_mode": {
    "name": "ipython",
    "version": 3
   },
   "file_extension": ".py",
   "mimetype": "text/x-python",
   "name": "python",
   "nbconvert_exporter": "python",
   "pygments_lexer": "ipython3",
   "version": "3.7.4"
  }
 },
 "nbformat": 4,
 "nbformat_minor": 2
}
